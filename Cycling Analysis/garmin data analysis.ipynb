{
 "cells": [
  {
   "cell_type": "code",
   "execution_count": 8,
   "id": "dac7368a",
   "metadata": {},
   "outputs": [
    {
     "data": {
      "text/html": [
       "<div>\n",
       "<style scoped>\n",
       "    .dataframe tbody tr th:only-of-type {\n",
       "        vertical-align: middle;\n",
       "    }\n",
       "\n",
       "    .dataframe tbody tr th {\n",
       "        vertical-align: top;\n",
       "    }\n",
       "\n",
       "    .dataframe thead th {\n",
       "        text-align: right;\n",
       "    }\n",
       "</style>\n",
       "<table border=\"1\" class=\"dataframe\">\n",
       "  <thead>\n",
       "    <tr style=\"text-align: right;\">\n",
       "      <th></th>\n",
       "      <th>Activity Type</th>\n",
       "      <th>Date</th>\n",
       "      <th>Title</th>\n",
       "      <th>Distance</th>\n",
       "      <th>Calories</th>\n",
       "      <th>Time</th>\n",
       "      <th>Avg HR</th>\n",
       "      <th>Max HR</th>\n",
       "      <th>Avg Run Cadence</th>\n",
       "      <th>Max Run Cadence</th>\n",
       "      <th>Avg Pace</th>\n",
       "      <th>Best Pace</th>\n",
       "      <th>Elev Gain</th>\n",
       "      <th>Elev Loss</th>\n",
       "      <th>Avg Stride Length</th>\n",
       "      <th>Best Lap Time</th>\n",
       "      <th>Number of Laps</th>\n",
       "    </tr>\n",
       "  </thead>\n",
       "  <tbody>\n",
       "    <tr>\n",
       "      <th>0</th>\n",
       "      <td>Running</td>\n",
       "      <td>7/15/20 9:41</td>\n",
       "      <td>Cherry Hill Running</td>\n",
       "      <td>6.00</td>\n",
       "      <td>530</td>\n",
       "      <td>0:43:55</td>\n",
       "      <td>141</td>\n",
       "      <td>160</td>\n",
       "      <td>176</td>\n",
       "      <td>182</td>\n",
       "      <td>7:19</td>\n",
       "      <td>6:20</td>\n",
       "      <td>169</td>\n",
       "      <td>173</td>\n",
       "      <td>1.26</td>\n",
       "      <td>00:02.3</td>\n",
       "      <td>7</td>\n",
       "    </tr>\n",
       "    <tr>\n",
       "      <th>1</th>\n",
       "      <td>Running</td>\n",
       "      <td>7/14/20 17:45</td>\n",
       "      <td>Cherry Hill Running</td>\n",
       "      <td>6.50</td>\n",
       "      <td>587</td>\n",
       "      <td>0:47:04</td>\n",
       "      <td>144</td>\n",
       "      <td>160</td>\n",
       "      <td>172</td>\n",
       "      <td>182</td>\n",
       "      <td>7:14</td>\n",
       "      <td>6:35</td>\n",
       "      <td>183</td>\n",
       "      <td>187</td>\n",
       "      <td>1.29</td>\n",
       "      <td>03:32.7</td>\n",
       "      <td>7</td>\n",
       "    </tr>\n",
       "    <tr>\n",
       "      <th>2</th>\n",
       "      <td>Running</td>\n",
       "      <td>7/13/20 18:57</td>\n",
       "      <td>Cherry Hill Running</td>\n",
       "      <td>5.01</td>\n",
       "      <td>392</td>\n",
       "      <td>0:40:29</td>\n",
       "      <td>128</td>\n",
       "      <td>151</td>\n",
       "      <td>170</td>\n",
       "      <td>180</td>\n",
       "      <td>8:05</td>\n",
       "      <td>5:49</td>\n",
       "      <td>124</td>\n",
       "      <td>124</td>\n",
       "      <td>1.17</td>\n",
       "      <td>00:04.1</td>\n",
       "      <td>6</td>\n",
       "    </tr>\n",
       "    <tr>\n",
       "      <th>3</th>\n",
       "      <td>Running</td>\n",
       "      <td>7/12/20 18:44</td>\n",
       "      <td>Cherry Hill Running</td>\n",
       "      <td>7.01</td>\n",
       "      <td>633</td>\n",
       "      <td>0:52:55</td>\n",
       "      <td>142</td>\n",
       "      <td>157</td>\n",
       "      <td>172</td>\n",
       "      <td>180</td>\n",
       "      <td>7:33</td>\n",
       "      <td>5:00</td>\n",
       "      <td>215</td>\n",
       "      <td>219</td>\n",
       "      <td>1.24</td>\n",
       "      <td>00:05.1</td>\n",
       "      <td>8</td>\n",
       "    </tr>\n",
       "    <tr>\n",
       "      <th>4</th>\n",
       "      <td>Running</td>\n",
       "      <td>7/11/20 19:35</td>\n",
       "      <td>Cherry Hill Running</td>\n",
       "      <td>5.19</td>\n",
       "      <td>419</td>\n",
       "      <td>0:41:35</td>\n",
       "      <td>129</td>\n",
       "      <td>143</td>\n",
       "      <td>170</td>\n",
       "      <td>178</td>\n",
       "      <td>8:01</td>\n",
       "      <td>6:48</td>\n",
       "      <td>76</td>\n",
       "      <td>80</td>\n",
       "      <td>1.18</td>\n",
       "      <td>01:27.1</td>\n",
       "      <td>6</td>\n",
       "    </tr>\n",
       "  </tbody>\n",
       "</table>\n",
       "</div>"
      ],
      "text/plain": [
       "  Activity Type           Date                Title  Distance Calories  \\\n",
       "0       Running   7/15/20 9:41  Cherry Hill Running      6.00      530   \n",
       "1       Running  7/14/20 17:45  Cherry Hill Running      6.50      587   \n",
       "2       Running  7/13/20 18:57  Cherry Hill Running      5.01      392   \n",
       "3       Running  7/12/20 18:44  Cherry Hill Running      7.01      633   \n",
       "4       Running  7/11/20 19:35  Cherry Hill Running      5.19      419   \n",
       "\n",
       "      Time Avg HR Max HR Avg Run Cadence Max Run Cadence Avg Pace Best Pace  \\\n",
       "0  0:43:55    141    160             176             182     7:19      6:20   \n",
       "1  0:47:04    144    160             172             182     7:14      6:35   \n",
       "2  0:40:29    128    151             170             180     8:05      5:49   \n",
       "3  0:52:55    142    157             172             180     7:33      5:00   \n",
       "4  0:41:35    129    143             170             178     8:01      6:48   \n",
       "\n",
       "  Elev Gain Elev Loss  Avg Stride Length Best Lap Time  Number of Laps  \n",
       "0       169       173               1.26       00:02.3               7  \n",
       "1       183       187               1.29       03:32.7               7  \n",
       "2       124       124               1.17       00:04.1               6  \n",
       "3       215       219               1.24       00:05.1               8  \n",
       "4        76        80               1.18       01:27.1               6  "
      ]
     },
     "execution_count": 8,
     "metadata": {},
     "output_type": "execute_result"
    }
   ],
   "source": [
    "import pandas as pd\n",
    "\n",
    "# Load the dataset\n",
    "df = pd.read_csv(\"garmin_run_data.csv\")\n",
    "\n",
    "# Quick preview\n",
    "df.head()\n",
    "\n"
   ]
  },
  {
   "cell_type": "code",
   "execution_count": 9,
   "id": "84e2c8eb",
   "metadata": {},
   "outputs": [
    {
     "name": "stdout",
     "output_type": "stream",
     "text": [
      "Activity Type        0\n",
      "Date                 0\n",
      "Distance             0\n",
      "Calories             0\n",
      "Time                 0\n",
      "Avg HR               0\n",
      "Max HR               0\n",
      "Avg Run Cadence      0\n",
      "Max Run Cadence      0\n",
      "Avg Pace             0\n",
      "Best Pace            0\n",
      "Elev Gain            0\n",
      "Avg Stride Length    0\n",
      "dtype: int64\n"
     ]
    }
   ],
   "source": [
    "df = df.drop(columns=[\n",
    "    'Title', 'Number of Laps', 'Best Lap Time', 'Elev Loss'\n",
    "])\n",
    "\n",
    "print(df.isnull().sum())\n"
   ]
  },
  {
   "cell_type": "code",
   "execution_count": 10,
   "id": "1cd73863",
   "metadata": {},
   "outputs": [],
   "source": [
    "df = df.dropna()\n"
   ]
  },
  {
   "cell_type": "code",
   "execution_count": 17,
   "id": "b3edf110",
   "metadata": {},
   "outputs": [
    {
     "name": "stdout",
     "output_type": "stream",
     "text": [
      "['0:43:55' '0:47:04' '0:40:29' '0:52:55' '0:41:35' '0:45:48' '0:35:11'\n",
      " '0:35:29' '0:42:31' '0:25:04' '0:44:49' '0:35:12' '0:32:16' '0:39:49'\n",
      " '0:52:45' '0:44:06' '0:49:03' '0:39:06' '0:50:05' '0:47:07' '0:37:47'\n",
      " '0:41:23' '0:34:04' '0:39:47' '0:50:04' '0:42:33' '0:33:39' '1:02:25'\n",
      " '0:39:45' '0:50:54' '0:40:37' '0:32:08' '1:01:19' '0:38:25' '0:38:15'\n",
      " '0:38:52' '0:44:23' '0:42:05' '0:29:02' '0:48:04' '0:48:03' '0:36:25'\n",
      " '0:42:22' '0:43:20' '0:29:06' '0:25:37' '0:40:47' '0:45:27' '0:44:03'\n",
      " '0:23:55' '0:20:56' '0:47:36' '0:37:45' '0:45:50' '0:30:22' '0:24:32'\n",
      " '0:36:45' '0:37:57' '0:39:23' '0:40:40' '0:37:39' '0:36:32' '0:52:52'\n",
      " '0:31:25' '0:44:42' '0:24:30' '0:22:16' '0:30:44' '0:22:59' '0:36:46'\n",
      " '0:46:31' '0:23:14' '0:25:19' '0:31:37' '0:33:54' '0:42:58' '0:28:10'\n",
      " '0:32:46' '0:29:25' '0:22:18' '0:36:24' '0:15:41' '0:23:49' '0:23:24'\n",
      " '0:15:45' '0:26:33' '09:18.1' '0:29:14' '0:22:06' '0:21:53' '0:43:26'\n",
      " '0:39:57' '0:24:12' '0:36:54' '0:28:24' '0:23:00' '0:17:04' '0:28:50'\n",
      " '0:17:34' '0:27:07' '0:28:33' '0:35:14' '0:21:06' '0:22:54' '0:22:05'\n",
      " '0:35:33' '0:36:00' '0:37:20' '0:29:32' '0:25:47' '0:28:56' '0:26:20'\n",
      " '0:28:31' '0:29:10' '0:29:53' '0:15:09' '0:35:56' '05:57.7' '07:51.0'\n",
      " '0:19:55' '0:27:12' '0:28:46' '0:23:18' '0:48:42' '0:41:12' '0:46:15'\n",
      " '0:21:40' '0:37:56' '0:46:59' '0:27:26' '0:30:34' '0:52:14' '0:37:30'\n",
      " '0:45:24' '0:30:11' '0:43:30' '0:36:02' '0:28:00' '0:28:32' '0:30:53'\n",
      " '0:32:58' '0:31:30' '0:13:43' '0:14:28' '0:39:05' '0:17:50' '0:15:18'\n",
      " '0:32:02' '0:49:59' '1:00:46' '0:27:59' '06:31.1' '05:14.4' '05:14.8'\n",
      " '0:13:53' '1:06:14' '1:34:29' '1:07:33' '0:29:04' '0:15:48' '1:21:00'\n",
      " '09:38.8' '04:44.6' '0:27:28' '0:13:35' '0:27:38' '1:07:13' '0:52:51'\n",
      " '0:04:10' '0:33:09' '0:17:39' '0:50:35' '0:31:13' '0:12:23' '0:14:32'\n",
      " '1:02:00' '1:03:00' '1:02:28' '1:51:34' '0:31:38' '0:16:51' '0:16:54'\n",
      " '0:14:15' '0:49:11' '1:07:56' '0:27:42' '1:08:24' '0:27:37' '06:08.2'\n",
      " '0:19:16' '0:13:45' '0:29:07' '0:49:55' '1:52:31' '1:08:46' '1:08:53'\n",
      " '0:27:47' '1:20:19' '0:15:50' '07:09.5' '04:30.6' '02:59.2' '02:58.2'\n",
      " '02:58.0' '02:57.2' '02:58.1' '02:54.1' '0:14:13' '1:10:04' '1:57:51'\n",
      " '1:12:37' '0:15:16' '0:15:23' '0:14:52' '0:23:15' '1:09:59' '0:22:38'\n",
      " '0:23:38' '0:14:08' '0:28:30' '1:07:08' '1:59:19' '1:09:40' '1:13:03'\n",
      " '1:22:41' '0:52:37' '0:09:30' '0:53:44' '1:56:42' '1:11:48' '1:09:08'\n",
      " '0:14:50' '0:30:05' '0:19:00' '0:21:05' '1:10:28' '0:22:12' '07:31.0'\n",
      " '0:10:03' '0:10:05' '0:13:52' '1:01:33' '1:58:32' '1:10:07' '0:32:21'\n",
      " '0:28:58' '0:56:07' '0:16:12' '0:27:51' '1:10:02' '1:48:57' '1:16:03'\n",
      " '0:25:36' '0:13:58' '0:27:27' '1:02:19' '0:16:00' '0:27:48' '0:23:39'\n",
      " '1:08:34' '1:52:08' '0:15:36' '0:26:43' '0:14:29' '0:46:00' '1:07:14'\n",
      " '1:12:05' '0:28:51' '0:18:13' '0:13:44' '1:34:00' '1:05:01' '1:11:27'\n",
      " '0:30:17' '0:23:10' '0:13:47' '1:18:09' '0:24:47' '0:22:37' '0:14:26'\n",
      " '02:07.2' '0:22:52' '1:12:35' '1:43:30' '1:09:57' '0:25:14' '0:17:25'\n",
      " '1:00:20' '0:20:31' '1:18:54' '0:17:37' '0:18:50' '1:13:57' '1:45:34'\n",
      " '0:34:14' '0:11:55' '0:19:57' '0:33:57' '03:46.9' '03:41.0' '03:41.9'\n",
      " '03:45.3' '03:48.3' '03:50.0' '0:14:36' '1:11:26' '02:01.1' '1:41:57'\n",
      " '1:13:52' '0:15:40' '0:17:44' '02:19.3' '0:49:35' '1:16:18' '0:27:09'\n",
      " '07:16.7' '0:15:34' '00:00.2' '1:09:26' '1:34:50' '1:09:49' '01:08.6'\n",
      " '01:10.6' '01:06.9' '01:07.6' '03:46.3' '03:47.4' '02:25.5' '02:24.9'\n",
      " '02:23.0' '0:14:46' '0:53:52' '1:05:14' '0:17:21' '06:22.6' '06:32.3'\n",
      " '06:32.8' '06:32.1' '0:14:06' '1:01:46' '0:14:45' '1:35:11' '0:19:58'\n",
      " '0:16:16' '0:17:35' '02:02.6' '0:52:26' '0:28:14' '0:18:31' '0:14:04'\n",
      " '0:56:30' '0:10:47' '0:25:35' '0:14:23' '1:01:28' '03:15.6' '1:29:15'\n",
      " '0:56:00' '0:16:17' '0:22:17' '0:53:33' '0:57:47' '0:47:37' '0:53:51'\n",
      " '0:58:23' '0:57:44' '0:37:54' '0:36:41' '0:55:10' '09:47.8' '01:50.2'\n",
      " '01:47.8' '01:47.7' '02:31.5' '02:26.0' '02:25.7' '02:24.5' '02:24.4'\n",
      " '05:09.4' '0:13:57' '1:00:41' '1:26:31' '0:13:36' '0:16:03' '0:14:51'\n",
      " '0:10:37' '0:47:12' '0:52:08' '0:14:22' '0:14:03' '1:42:02' '0:51:39'\n",
      " '0:10:33' '06:31.3' '06:32.2' '06:29.4' '0:12:43' '0:48:51' '1:18:46'\n",
      " '0:47:24' '0:36:38' '0:21:15' '05:00.5' '05:00.1' '05:00.8' '1:21:47'\n",
      " '0:12:25' '0:15:15' '0:36:33' '0:59:38' '0:35:49' '0:18:19' '03:11.6'\n",
      " '06:26.5' '03:13.8' '06:26.7' '03:14.6' '03:07.6' '0:21:00' '0:59:36'\n",
      " '1:23:25' '0:51:03' '0:17:06' '01:10.4' '01:13.4' '01:12.0' '01:14.4'\n",
      " '0:21:29' '0:17:03' '0:56:58' '0:51:43' '0:20:05' '02:57.1' '04:44.7'\n",
      " '04:41.9' '03:04.3' '04:43.1' '03:02.2' '03:03.7' '0:19:27' '1:09:25'\n",
      " '1:24:03' '0:26:36' '0:11:39' '0:15:21' '0:36:08' '1:14:06' '1:06:00'\n",
      " '0:21:54' '07:02.6' '06:54.7' '06:52.2' '0:16:23' '1:07:45' '1:44:20'\n",
      " '0:50:25' '0:12:27' '04:42.9' '04:47.9' '04:55.0' '05:04.2' '05:09.9'\n",
      " '05:18.0' '0:14:02' '1:14:45' '0:53:42' '0:15:02' '04:54.0' '05:22.6'\n",
      " '01:49.0' '01:48.7' '01:47.3' '01:49.4' '01:51.4' '01:47.4' '1:13:50'\n",
      " '1:57:00' '0:26:18' '0:15:27' '0:14:00' '0:40:35' '1:16:20' '0:14:48'\n",
      " '0:39:15' '0:16:02' '05:18.3' '05:20.9' '05:16.2' '05:09.0' '05:04.4'\n",
      " '0:16:32' '1:03:48' '1:53:00' '0:47:00' '0:45:28' '1:06:41' '0:49:56'\n",
      " '0:10:23' '03:24.8' '05:20.2' '08:10.1' '07:49.2' '09:34.3' '1:02:55'\n",
      " '1:53:37' '1:12:58' '0:15:08' '0:29:36' '1:08:22' '1:07:53' '1:08:35'\n",
      " '1:56:07' '0:50:00' '1:12:10' '1:19:03' '0:23:53' '05:30.8' '02:43.1'\n",
      " '02:44.0' '0:18:38' '0:17:11' '0:24:57' '1:56:08' '01:02.3' '08:01.6'\n",
      " '1:09:22' '0:30:37' '1:05:12' '0:31:53' '0:24:40' '09:39.3' '0:14:05'\n",
      " '1:10:40' '1:54:54' '0:19:56' '03:37.8' '1:17:47' '0:17:00' '0:28:36'\n",
      " '1:07:50' '1:16:52' '0:17:12' '0:13:13' '0:12:50' '0:19:31' '1:08:39'\n",
      " '1:58:59' '0:35:32' '0:12:04' '0:35:01' '00:35.8' '0:16:55' '0:55:44'\n",
      " '1:08:57' '1:18:37' '1:08:37' '2:00:00' '0:22:00' '1:05:49' '1:18:34'\n",
      " '0:38:39' '0:36:49' '1:21:07' '1:26:07' '1:07:34' '0:56:47' '1:08:06'\n",
      " '0:53:19' '0:20:38' '1:09:53' '1:18:17' '1:04:58' '0:29:56' '1:11:42'\n",
      " '1:24:42' '0:20:51' '1:12:16' '0:12:58' '0:57:13' '02:12.7' '1:55:37'\n",
      " '0:21:11' '0:56:41' '1:15:24' '0:34:28' '0:10:31' '05:15.2' '0:18:02'\n",
      " '0:28:23' '1:16:12' '1:48:00' '1:17:00' '0:58:00' '0:59:25' '0:15:24'\n",
      " '0:15:53' '0:56:32' '0:41:09' '0:10:42' '02:21.8' '0:16:42' '1:19:06'\n",
      " '1:40:56' '1:12:50' '0:46:01' '0:14:37' '0:57:40' '1:16:41' '0:38:43'\n",
      " '05:22.2' '05:23.4' '0:21:24' '1:04:41' '1:34:27' '1:04:06' '1:03:23'\n",
      " '1:14:59' '1:04:35' '0:23:07' '1:06:20' '1:09:24' '1:25:12' '0:15:30'\n",
      " '0:54:36' '1:03:08' '1:05:39' '1:14:10' '0:54:10' '0:57:26' '0:58:17'\n",
      " '1:00:38' '0:51:56' '0:44:33' '0:47:56' '0:49:18' '0:46:07' '0:36:47'\n",
      " '0:42:19' '0:55:33' '0:42:24' '0:45:17' '0:30:28']\n"
     ]
    }
   ],
   "source": [
    "print(df['Time'].unique())\n"
   ]
  },
  {
   "cell_type": "code",
   "execution_count": 18,
   "id": "4ca627d0",
   "metadata": {},
   "outputs": [],
   "source": [
    "# Keep rows where 'Time' has the correct format (contains at least one colon and no periods)\n",
    "df = df[df['Time'].str.contains(\":\", na=False)]\n",
    "df = df[~df['Time'].str.contains(\"\\.\", na=False)]  # Remove entries like \".\" if they still exist\n"
   ]
  },
  {
   "cell_type": "code",
   "execution_count": 19,
   "id": "9205f848",
   "metadata": {},
   "outputs": [],
   "source": [
    "df['Time'] = pd.to_timedelta(df['Time']).dt.total_seconds() / 60\n"
   ]
  },
  {
   "cell_type": "code",
   "execution_count": 20,
   "id": "af713e8f",
   "metadata": {},
   "outputs": [],
   "source": [
    "df.to_csv(\"cleaned_running_data.csv\", index=False)\n"
   ]
  },
  {
   "cell_type": "code",
   "execution_count": 21,
   "id": "d8ad1ae0",
   "metadata": {},
   "outputs": [
    {
     "data": {
      "text/html": [
       "<div>\n",
       "<style scoped>\n",
       "    .dataframe tbody tr th:only-of-type {\n",
       "        vertical-align: middle;\n",
       "    }\n",
       "\n",
       "    .dataframe tbody tr th {\n",
       "        vertical-align: top;\n",
       "    }\n",
       "\n",
       "    .dataframe thead th {\n",
       "        text-align: right;\n",
       "    }\n",
       "</style>\n",
       "<table border=\"1\" class=\"dataframe\">\n",
       "  <thead>\n",
       "    <tr style=\"text-align: right;\">\n",
       "      <th></th>\n",
       "      <th>Distance</th>\n",
       "      <th>Time</th>\n",
       "      <th>Avg Stride Length</th>\n",
       "    </tr>\n",
       "  </thead>\n",
       "  <tbody>\n",
       "    <tr>\n",
       "      <th>count</th>\n",
       "      <td>570.000000</td>\n",
       "      <td>570.000000</td>\n",
       "      <td>570.000000</td>\n",
       "    </tr>\n",
       "    <tr>\n",
       "      <th>mean</th>\n",
       "      <td>6.077000</td>\n",
       "      <td>42.989298</td>\n",
       "      <td>1.227561</td>\n",
       "    </tr>\n",
       "    <tr>\n",
       "      <th>std</th>\n",
       "      <td>3.720877</td>\n",
       "      <td>25.632342</td>\n",
       "      <td>0.297052</td>\n",
       "    </tr>\n",
       "    <tr>\n",
       "      <th>min</th>\n",
       "      <td>0.800000</td>\n",
       "      <td>4.166667</td>\n",
       "      <td>0.000000</td>\n",
       "    </tr>\n",
       "    <tr>\n",
       "      <th>25%</th>\n",
       "      <td>3.022500</td>\n",
       "      <td>21.925000</td>\n",
       "      <td>1.230000</td>\n",
       "    </tr>\n",
       "    <tr>\n",
       "      <th>50%</th>\n",
       "      <td>5.005000</td>\n",
       "      <td>36.800000</td>\n",
       "      <td>1.280000</td>\n",
       "    </tr>\n",
       "    <tr>\n",
       "      <th>75%</th>\n",
       "      <td>8.990000</td>\n",
       "      <td>61.550000</td>\n",
       "      <td>1.320000</td>\n",
       "    </tr>\n",
       "    <tr>\n",
       "      <th>max</th>\n",
       "      <td>18.010000</td>\n",
       "      <td>120.000000</td>\n",
       "      <td>1.750000</td>\n",
       "    </tr>\n",
       "  </tbody>\n",
       "</table>\n",
       "</div>"
      ],
      "text/plain": [
       "         Distance        Time  Avg Stride Length\n",
       "count  570.000000  570.000000         570.000000\n",
       "mean     6.077000   42.989298           1.227561\n",
       "std      3.720877   25.632342           0.297052\n",
       "min      0.800000    4.166667           0.000000\n",
       "25%      3.022500   21.925000           1.230000\n",
       "50%      5.005000   36.800000           1.280000\n",
       "75%      8.990000   61.550000           1.320000\n",
       "max     18.010000  120.000000           1.750000"
      ]
     },
     "execution_count": 21,
     "metadata": {},
     "output_type": "execute_result"
    }
   ],
   "source": [
    "df.describe()\n"
   ]
  },
  {
   "cell_type": "code",
   "execution_count": 23,
   "id": "0e64c7f0",
   "metadata": {},
   "outputs": [
    {
     "name": "stdout",
     "output_type": "stream",
     "text": [
      "Index(['Activity Type', 'Date', 'Distance', 'Calories', 'Time', 'Avg HR',\n",
      "       'Max HR', 'Avg Run Cadence', 'Max Run Cadence', 'Avg Pace', 'Best Pace',\n",
      "       'Elev Gain', 'Avg Stride Length'],\n",
      "      dtype='object')\n"
     ]
    }
   ],
   "source": [
    "print(df.columns)\n"
   ]
  },
  {
   "cell_type": "code",
   "execution_count": 24,
   "id": "51439986",
   "metadata": {},
   "outputs": [],
   "source": [
    "df.rename(columns={'Avg HR': 'Avg_HR'}, inplace=True)\n",
    "\n"
   ]
  },
  {
   "cell_type": "code",
   "execution_count": 40,
   "id": "a0b5d60a",
   "metadata": {},
   "outputs": [
    {
     "data": {
      "image/png": "[encoded data removed]",
      "text/plain": [
       "<Figure size 576x432 with 1 Axes>"
      ]
     },
     "metadata": {
      "needs_background": "light"
     },
     "output_type": "display_data"
    }
   ],
   "source": [
    "import matplotlib.pyplot as plt\n",
    "import seaborn as sns\n",
    "\n",
    "# Force numeric conversion (in case plot still sees strings)\n",
    "df['Calories'] = pd.to_numeric(df['Calories'], errors='coerce')\n",
    "df = df[df['Calories'].notnull()]\n",
    "\n",
    "# Plot\n",
    "plt.figure(figsize=(8, 6))  # Add size to help spacing\n",
    "sns.scatterplot(data=df, x='Avg_HR', y='Calories')\n",
    "plt.title(\"Calories Burned vs Avg Heart Rate\")\n",
    "plt.xlabel(\"Average Heart Rate (bpm)\")\n",
    "plt.ylabel(\"Calories Burned\")\n",
    "plt.tight_layout()  # Fix spacing of labels\n",
    "plt.show()\n",
    "\n"
   ]
  },
  {
   "cell_type": "code",
   "execution_count": 41,
   "id": "fb28aeb4",
   "metadata": {},
   "outputs": [
    {
     "data": {
      "image/png": "[encoded data removed]",
      "text/plain": [
       "<Figure size 576x432 with 1 Axes>"
      ]
     },
     "metadata": {
      "needs_background": "light"
     },
     "output_type": "display_data"
    }
   ],
   "source": [
    "import seaborn as sns\n",
    "import matplotlib.pyplot as plt\n",
    "\n",
    "# Ensure Calories is numeric again (safe to re-run)\n",
    "df['Calories'] = pd.to_numeric(df['Calories'], errors='coerce')\n",
    "df = df[df['Calories'].notnull()]\n",
    "\n",
    "# Plot\n",
    "plt.figure(figsize=(8, 6))\n",
    "sns.scatterplot(data=df, x='Time', y='Calories')\n",
    "plt.title(\"Calories Burned vs Time (minutes)\")\n",
    "plt.xlabel(\"Time (minutes)\")\n",
    "plt.ylabel(\"Calories Burned\")\n",
    "plt.tight_layout()\n",
    "plt.show()\n",
    "\n"
   ]
  },
  {
   "cell_type": "code",
   "execution_count": 42,
   "id": "ab0a62f6",
   "metadata": {},
   "outputs": [
    {
     "data": {
      "image/png": "[encoded data removed]",
      "text/plain": [
       "<Figure size 576x432 with 1 Axes>"
      ]
     },
     "metadata": {
      "needs_background": "light"
     },
     "output_type": "display_data"
    }
   ],
   "source": [
    "import seaborn as sns\n",
    "import matplotlib.pyplot as plt\n",
    "\n",
    "# Ensure Calories is numeric\n",
    "df['Calories'] = pd.to_numeric(df['Calories'], errors='coerce')\n",
    "df = df[df['Calories'].notnull()]\n",
    "\n",
    "# Plot\n",
    "plt.figure(figsize=(8, 6))\n",
    "sns.scatterplot(data=df, x='Distance', y='Calories')\n",
    "plt.title(\"Calories Burned vs Distance\")\n",
    "plt.xlabel(\"Distance (km)\")\n",
    "plt.ylabel(\"Calories Burned\")\n",
    "plt.tight_layout()\n",
    "plt.show()\n"
   ]
  },
  {
   "cell_type": "code",
   "execution_count": 29,
   "id": "54377af6",
   "metadata": {},
   "outputs": [
    {
     "data": {
      "text/html": [
       "<div>\n",
       "<style scoped>\n",
       "    .dataframe tbody tr th:only-of-type {\n",
       "        vertical-align: middle;\n",
       "    }\n",
       "\n",
       "    .dataframe tbody tr th {\n",
       "        vertical-align: top;\n",
       "    }\n",
       "\n",
       "    .dataframe thead th {\n",
       "        text-align: right;\n",
       "    }\n",
       "</style>\n",
       "<table border=\"1\" class=\"dataframe\">\n",
       "  <thead>\n",
       "    <tr style=\"text-align: right;\">\n",
       "      <th></th>\n",
       "      <th>Activity Type</th>\n",
       "      <th>Date</th>\n",
       "      <th>Distance</th>\n",
       "      <th>Calories</th>\n",
       "      <th>Time</th>\n",
       "      <th>Avg_HR</th>\n",
       "      <th>Max HR</th>\n",
       "      <th>Avg Run Cadence</th>\n",
       "      <th>Max Run Cadence</th>\n",
       "      <th>Avg Pace</th>\n",
       "      <th>Best Pace</th>\n",
       "      <th>Elev Gain</th>\n",
       "      <th>Avg Stride Length</th>\n",
       "    </tr>\n",
       "  </thead>\n",
       "  <tbody>\n",
       "  </tbody>\n",
       "</table>\n",
       "</div>"
      ],
      "text/plain": [
       "Empty DataFrame\n",
       "Columns: [Activity Type, Date, Distance, Calories, Time, Avg_HR, Max HR, Avg Run Cadence, Max Run Cadence, Avg Pace, Best Pace, Elev Gain, Avg Stride Length]\n",
       "Index: []"
      ]
     },
     "execution_count": 29,
     "metadata": {},
     "output_type": "execute_result"
    }
   ],
   "source": [
    "# Search for any rows with \"__--\" in the dataset\n",
    "df[df.astype(str).apply(lambda x: x.str.contains('__--')).any(axis=1)]\n"
   ]
  },
  {
   "cell_type": "code",
   "execution_count": 30,
   "id": "0b7347da",
   "metadata": {},
   "outputs": [],
   "source": [
    "df = df[~df.astype(str).apply(lambda x: x.str.contains('__--')).any(axis=1)]\n"
   ]
  },
  {
   "cell_type": "code",
   "execution_count": 31,
   "id": "5976a1f1",
   "metadata": {},
   "outputs": [
    {
     "name": "stdout",
     "output_type": "stream",
     "text": [
      "Activity Type         object\n",
      "Date                  object\n",
      "Distance             float64\n",
      "Calories              object\n",
      "Time                 float64\n",
      "Avg_HR                object\n",
      "Max HR                object\n",
      "Avg Run Cadence       object\n",
      "Max Run Cadence       object\n",
      "Avg Pace              object\n",
      "Best Pace             object\n",
      "Elev Gain             object\n",
      "Avg Stride Length    float64\n",
      "dtype: object\n",
      "              Time         Avg_HR         Distance\n",
      "0  <class 'float'>  <class 'str'>  <class 'float'>\n",
      "1  <class 'float'>  <class 'str'>  <class 'float'>\n",
      "2  <class 'float'>  <class 'str'>  <class 'float'>\n",
      "3  <class 'float'>  <class 'str'>  <class 'float'>\n",
      "4  <class 'float'>  <class 'str'>  <class 'float'>\n"
     ]
    }
   ],
   "source": [
    "print(df.dtypes)\n",
    "print(df[['Time', 'Avg_HR', 'Distance']].applymap(type).head())\n"
   ]
  },
  {
   "cell_type": "code",
   "execution_count": 34,
   "id": "7f9cc37d",
   "metadata": {},
   "outputs": [],
   "source": [
    "# Keep only rows where Avg_HR can be converted to float\n",
    "df = df[pd.to_numeric(df['Avg_HR'], errors='coerce').notnull()]\n",
    "\n"
   ]
  },
  {
   "cell_type": "code",
   "execution_count": 35,
   "id": "4f091074",
   "metadata": {},
   "outputs": [],
   "source": [
    "df['Avg_HR'] = df['Avg_HR'].astype(float)\n"
   ]
  },
  {
   "cell_type": "code",
   "execution_count": 36,
   "id": "0c076432",
   "metadata": {},
   "outputs": [],
   "source": [
    "df['Calories'] = pd.to_numeric(df['Calories'], errors='coerce')\n",
    "df = df[df['Calories'].notnull()]  # Drop NaN after conversion\n"
   ]
  },
  {
   "cell_type": "code",
   "execution_count": 37,
   "id": "6a76d4ae",
   "metadata": {},
   "outputs": [],
   "source": [
    "X = df[['Time', 'Avg_HR', 'Distance']]\n",
    "y = df['Calories']\n"
   ]
  },
  {
   "cell_type": "code",
   "execution_count": 38,
   "id": "4959c190",
   "metadata": {},
   "outputs": [
    {
     "name": "stdout",
     "output_type": "stream",
     "text": [
      "Linear Regression R² Score: 0.91\n"
     ]
    }
   ],
   "source": [
    "from sklearn.model_selection import train_test_split\n",
    "from sklearn.linear_model import LinearRegression\n",
    "from sklearn.metrics import r2_score\n",
    "\n",
    "X_train, X_test, y_train, y_test = train_test_split(X, y, test_size=0.2, random_state=42)\n",
    "\n",
    "lr_model = LinearRegression()\n",
    "lr_model.fit(X_train, y_train)\n",
    "\n",
    "y_pred = lr_model.predict(X_test)\n",
    "\n",
    "r2 = r2_score(y_test, y_pred)\n",
    "print(f\"Linear Regression R² Score: {r2:.2f}\")\n"
   ]
  },
  {
   "cell_type": "code",
   "execution_count": 39,
   "id": "ae4b7f02",
   "metadata": {},
   "outputs": [
    {
     "data": {
      "image/png": "[encoded data removed]",
      "text/plain": [
       "<Figure size 432x288 with 1 Axes>"
      ]
     },
     "metadata": {
      "needs_background": "light"
     },
     "output_type": "display_data"
    }
   ],
   "source": [
    "import matplotlib.pyplot as plt\n",
    "\n",
    "plt.scatter(y_test, y_pred)\n",
    "plt.xlabel(\"Actual Calories\")\n",
    "plt.ylabel(\"Predicted Calories\")\n",
    "plt.title(\"Actual vs Predicted Calories (Linear Regression)\")\n",
    "plt.show()\n"
   ]
  },
  {
   "cell_type": "code",
   "execution_count": null,
   "id": "43f817d2",
   "metadata": {},
   "outputs": [],
   "source": []
  }
 ],
 "metadata": {
  "kernelspec": {
   "display_name": "Python 3 (ipykernel)",
   "language": "python",
   "name": "python3"
  },
  "language_info": {
   "codemirror_mode": {
    "name": "ipython",
    "version": 3
   },
   "file_extension": ".py",
   "mimetype": "text/x-python",
   "name": "python",
   "nbconvert_exporter": "python",
   "pygments_lexer": "ipython3",
   "version": "3.9.7"
  }
 },
 "nbformat": 4,
 "nbformat_minor": 5
}
